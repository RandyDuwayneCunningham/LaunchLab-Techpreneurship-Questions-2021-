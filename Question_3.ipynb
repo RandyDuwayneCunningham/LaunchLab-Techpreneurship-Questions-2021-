{
  "nbformat": 4,
  "nbformat_minor": 0,
  "metadata": {
    "colab": {
      "name": "Question-3.ipynb",
      "provenance": [],
      "collapsed_sections": [],
      "authorship_tag": "ABX9TyOFNAdoSlmwvM3O0VEGKkLl",
      "include_colab_link": true
    },
    "kernelspec": {
      "name": "python3",
      "display_name": "Python 3"
    },
    "language_info": {
      "name": "python"
    }
  },
  "cells": [
    {
      "cell_type": "markdown",
      "metadata": {
        "id": "view-in-github",
        "colab_type": "text"
      },
      "source": [
        "<a href=\"https://colab.research.google.com/github/RandyDuwayneCunningham/LaunchLab-Techpreneurship-Questions-2021-/blob/main/Question_3.ipynb\" target=\"_parent\"><img src=\"https://colab.research.google.com/assets/colab-badge.svg\" alt=\"Open In Colab\"/></a>"
      ]
    },
    {
      "cell_type": "code",
      "metadata": {
        "id": "j-rVe7jrc3W_"
      },
      "source": [
        "#Define a function to merge overlapping intervals\n",
        "def mergeIntervals(array): \n",
        "          \n",
        "        # Sort intervals based on the increasing order of the start intervals \n",
        "        array.sort(key = lambda x: x[0])  \n",
        "          \n",
        "        # array to hold the merged intervals \n",
        "        m = [] \n",
        "\n",
        "        #s is the starting point\n",
        "        s = -1000000\n",
        "\n",
        "        #max is the maximum(last) point of interval\n",
        "        max = -10000000\n",
        "\n",
        "        #Loop through array to check if first number in interval  is greater than max\n",
        "        for i in range(len(array)): \n",
        "            a = array[i] \n",
        "            if a[0] > max: \n",
        "                if i != 0: \n",
        "                    m.append([s,max]) \n",
        "                max = a[1] \n",
        "                s = a[0] \n",
        "            else: \n",
        "                if a[1] >= max: \n",
        "                    max = a[1] \n",
        "          \n",
        "        \n",
        "        if max != -100000 and [s, max] not in m: \n",
        "            m.append([s, max]) \n",
        "        print(\"The Merged Intervals are:\", end = \" \") \n",
        "        for i in range(len(m)): \n",
        "            print(m[i], end = \" \") \n",
        "  \n"
      ],
      "execution_count": null,
      "outputs": []
    },
    {
      "cell_type": "code",
      "metadata": {
        "colab": {
          "base_uri": "https://localhost:8080/"
        },
        "id": "nQ4Tg3jpgnUR",
        "outputId": "760ef191-fd64-42ee-8c60-906c14e79dfc"
      },
      "source": [
        "#Display Program \n",
        "array = [[1,3], [2,6], [8,10], [15,18]]\n",
        "mergeIntervals(array)"
      ],
      "execution_count": null,
      "outputs": [
        {
          "output_type": "stream",
          "text": [
            "The Merged Intervals are: [1, 6] [8, 10] [15, 18] "
          ],
          "name": "stdout"
        }
      ]
    }
  ]
}
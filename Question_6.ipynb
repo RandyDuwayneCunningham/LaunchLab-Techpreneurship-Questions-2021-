{
  "nbformat": 4,
  "nbformat_minor": 0,
  "metadata": {
    "colab": {
      "name": "Question-6.ipynb",
      "provenance": [],
      "collapsed_sections": [],
      "authorship_tag": "ABX9TyM0dZH7t7PgVefTbSZEKhIa",
      "include_colab_link": true
    },
    "kernelspec": {
      "name": "python3",
      "display_name": "Python 3"
    },
    "language_info": {
      "name": "python"
    }
  },
  "cells": [
    {
      "cell_type": "markdown",
      "metadata": {
        "id": "view-in-github",
        "colab_type": "text"
      },
      "source": [
        "<a href=\"https://colab.research.google.com/github/RandyDuwayneCunningham/LaunchLab-Techpreneurship-Questions-2021-/blob/main/Question_6.ipynb\" target=\"_parent\"><img src=\"https://colab.research.google.com/assets/colab-badge.svg\" alt=\"Open In Colab\"/></a>"
      ]
    },
    {
      "cell_type": "code",
      "metadata": {
        "id": "GaPQZkRjIilN"
      },
      "source": [
        "#function to check if 2 distinct indices are less than or equal to set distance\n",
        "def containsCloseNums(nums, k):\n",
        "\n",
        "  #Get the length of the array\n",
        "  n = len(nums)\n",
        "\n",
        "  #Create dictionary to map indices of elements\n",
        "  mp = {}\n",
        "\n",
        "  #Transverse elements. If first occurence, then add to dictionary and add its index\n",
        "  for i in range(n):\n",
        "    if nums[i] not in mp.keys():\n",
        "      mp[nums[i]] = i\n",
        "\n",
        "  #If not first occurence of element, then find distance between this and first occurence\n",
        "    else:\n",
        "      distance = i - nums[i]\n",
        "\n",
        "\n",
        "  #Evaluate whether function is true or not\n",
        "  if distance == k:\n",
        "    print(\"true\")\n",
        "\n",
        "  else:\n",
        "    print(\"false\")\n"
      ],
      "execution_count": null,
      "outputs": []
    },
    {
      "cell_type": "code",
      "metadata": {
        "colab": {
          "base_uri": "https://localhost:8080/"
        },
        "id": "lljGDGLnJYff",
        "outputId": "5ee838f7-1328-4d89-b967-42040d232c79"
      },
      "source": [
        "nums = [0,1,2,3,5,2]\n",
        "k = 2\n",
        "containsCloseNums(nums, k)\n"
      ],
      "execution_count": null,
      "outputs": [
        {
          "output_type": "stream",
          "text": [
            "false\n"
          ],
          "name": "stdout"
        }
      ]
    }
  ]
}
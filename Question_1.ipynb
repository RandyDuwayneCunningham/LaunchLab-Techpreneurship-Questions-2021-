{
  "nbformat": 4,
  "nbformat_minor": 0,
  "metadata": {
    "colab": {
      "name": "Question-1.ipynb",
      "provenance": [],
      "collapsed_sections": [],
      "authorship_tag": "ABX9TyNULrf6/LVEtEcYlKNO3d4O",
      "include_colab_link": true
    },
    "kernelspec": {
      "name": "python3",
      "display_name": "Python 3"
    },
    "language_info": {
      "name": "python"
    }
  },
  "cells": [
    {
      "cell_type": "markdown",
      "metadata": {
        "id": "view-in-github",
        "colab_type": "text"
      },
      "source": [
        "<a href=\"https://colab.research.google.com/github/RandyDuwayneCunningham/LaunchLab-Techpreneurship-Questions-2021-/blob/main/Question_1.ipynb\" target=\"_parent\"><img src=\"https://colab.research.google.com/assets/colab-badge.svg\" alt=\"Open In Colab\"/></a>"
      ]
    },
    {
      "cell_type": "code",
      "metadata": {
        "id": "gEWFHF76eBYT"
      },
      "source": [
        "#Define the function that returns n Fibonacci numbers\n",
        "def nfibnumbers(n):\n",
        "  #Initialize Fibonacci sequence\n",
        "  fibnumbers = [0, 1]\n",
        "\n",
        "  #Run this loop while the length of the list is less than n\n",
        "  while len(fibnumbers) < n:\n",
        "    #Add the last number in the list to the preceding number to create the next number\n",
        "    newfibnumber = fibnumbers[-1] + fibnumbers[-2]\n",
        "\n",
        "    #Append new Fibonacci number to the list\n",
        "    fibnumbers.append(newfibnumber)\n",
        "\n",
        "  #Print the Fibonacci sequence\n",
        "  print(fibnumbers)\n",
        "\n",
        "  #Print the number of items in the list\n",
        "  print(\"This series contains \" + str(len(fibnumbers)) + \" Fibonacci numbers\")\n",
        "\n",
        "\n"
      ],
      "execution_count": 1,
      "outputs": []
    },
    {
      "cell_type": "code",
      "metadata": {
        "colab": {
          "base_uri": "https://localhost:8080/"
        },
        "id": "dnVLAGpbeZNz",
        "outputId": "0af2e198-ba85-4648-e912-1f834a670335"
      },
      "source": [
        "nfibnumbers(10)"
      ],
      "execution_count": null,
      "outputs": [
        {
          "output_type": "stream",
          "text": [
            "[0, 1, 1, 2, 3, 5, 8, 13, 21, 34]\n",
            "This series contains 10 Fibonacci numbers\n"
          ],
          "name": "stdout"
        }
      ]
    }
  ]
}
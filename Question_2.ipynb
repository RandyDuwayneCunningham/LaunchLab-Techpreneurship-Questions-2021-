{
  "nbformat": 4,
  "nbformat_minor": 0,
  "metadata": {
    "colab": {
      "name": "Question-2.ipynb",
      "provenance": [],
      "collapsed_sections": [],
      "authorship_tag": "ABX9TyM2r2Da/Bd4E+o+J5znUNyp",
      "include_colab_link": true
    },
    "kernelspec": {
      "name": "python3",
      "display_name": "Python 3"
    },
    "language_info": {
      "name": "python"
    }
  },
  "cells": [
    {
      "cell_type": "markdown",
      "metadata": {
        "id": "view-in-github",
        "colab_type": "text"
      },
      "source": [
        "<a href=\"https://colab.research.google.com/github/RandyDuwayneCunningham/LaunchLab-Techpreneurship-Questions-2021-/blob/main/Question_2.ipynb\" target=\"_parent\"><img src=\"https://colab.research.google.com/assets/colab-badge.svg\" alt=\"Open In Colab\"/></a>"
      ]
    },
    {
      "cell_type": "code",
      "metadata": {
        "id": "PVJVsRI7qxVA"
      },
      "source": [
        "#Define function to return amount of even and odd numbers\n",
        "def returnevenodd(array):\n",
        "\n",
        "  #Create two empty lists\n",
        "  evennumbers = []\n",
        "  oddnumbers = []\n",
        "\n",
        "  #Set initial count to zero\n",
        "  evencount = 0\n",
        "  oddcount = 0\n",
        "\n",
        "  #Loop through array to check if integers are divisible by two without a remainder\n",
        "  #If divisible by two without remainder, increase evencount by one\n",
        "  #If divisible by two with a remainder, increase oddcount by one\n",
        "  for integer in array:\n",
        "    if integer % 2 == 0:\n",
        "      evencount += 1\n",
        "      evennumbers.append(integer)\n",
        "    elif integer % 2 != 0:\n",
        "      oddcount += 1\n",
        "      oddnumbers.append(integer)\n",
        "\n",
        "  #convert even and odd lists to tuples\n",
        "  t_evennumbers = tuple(evennumbers)\n",
        "  t_oddnumbers = tuple(oddnumbers)\n",
        "\n",
        "  #Display even count and accompanying tuple\n",
        "  if evencount == 0:\n",
        "    print(\"Even numbers: 0 elements\")\n",
        "  elif evencount == 1:\n",
        "    print(\"Even numbers: 1 element \" + \"(\" + str(t_evennumbers[0]) + \")\")\n",
        "  else:\n",
        "    print(\"Even numbers: \" + str(evencount) + \" elements \" + str(t_evennumbers))\n",
        "\n",
        "  #Display odd count and accompanying tuple\n",
        "  if oddcount == 0:\n",
        "    print(\"Odd numbers: 0 elements\")\n",
        "  elif oddcount == 1:\n",
        "    print(\"Odd numbers: 1 element \" + \"(\" + str(t_oddnumbers[0]) + \")\")\n",
        "  else:\n",
        "    print(\"Odd numbers: \" + str(oddcount) + \" elements \" + str(t_oddnumbers))"
      ],
      "execution_count": null,
      "outputs": []
    },
    {
      "cell_type": "code",
      "metadata": {
        "colab": {
          "base_uri": "https://localhost:8080/"
        },
        "id": "z3hJGMUoNn33",
        "outputId": "bc6897e3-6d28-4a51-89bd-d2bfed9af714"
      },
      "source": [
        "#Demonstrate program\n",
        "array = [552, 902, 482, 1772]\n",
        "returnevenodd(array)"
      ],
      "execution_count": null,
      "outputs": [
        {
          "output_type": "stream",
          "text": [
            "Even numbers: 4 elements (552, 902, 482, 1772)\n",
            "Odd numbers: 0 elements\n"
          ],
          "name": "stdout"
        }
      ]
    }
  ]
}
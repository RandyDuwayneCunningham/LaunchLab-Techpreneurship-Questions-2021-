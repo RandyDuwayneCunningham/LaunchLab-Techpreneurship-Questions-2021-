{
  "nbformat": 4,
  "nbformat_minor": 0,
  "metadata": {
    "colab": {
      "name": "Question-5.ipynb",
      "provenance": [],
      "collapsed_sections": [],
      "authorship_tag": "ABX9TyP3ZrZvUOF4/N3z+HjB5x2d",
      "include_colab_link": true
    },
    "kernelspec": {
      "name": "python3",
      "display_name": "Python 3"
    },
    "language_info": {
      "name": "python"
    }
  },
  "cells": [
    {
      "cell_type": "markdown",
      "metadata": {
        "id": "view-in-github",
        "colab_type": "text"
      },
      "source": [
        "<a href=\"https://colab.research.google.com/github/RandyDuwayneCunningham/LaunchLab-Techpreneurship-Questions-2021-/blob/main/Question_5.ipynb\" target=\"_parent\"><img src=\"https://colab.research.google.com/assets/colab-badge.svg\" alt=\"Open In Colab\"/></a>"
      ]
    },
    {
      "cell_type": "code",
      "metadata": {
        "id": "oGZnPCePqKIl"
      },
      "source": [
        "#Define function to remove duplicates in array\n",
        "def removeDuplicates(array):\n",
        "\n",
        "  #Create an empty list to contain unique items\n",
        "  uniques = []\n",
        "\n",
        "  #Loop through list an append non-duplicated items\n",
        "  for i in array:\n",
        "    if i not in uniques:\n",
        "      uniques.append(i)\n",
        "\n",
        "    else:\n",
        "      None\n",
        "\n",
        "  #Print resulting list containing non repeating items\n",
        "  print(\"Original array:\")\n",
        "  print(array)\n",
        "  print(\"After removing duplicates. Unique array:\")\n",
        "  print(uniques)\n",
        "  print(\"Length of the unique array is \" + str(len(uniques)))"
      ],
      "execution_count": null,
      "outputs": []
    },
    {
      "cell_type": "code",
      "metadata": {
        "colab": {
          "base_uri": "https://localhost:8080/"
        },
        "id": "X6Z3PWVKrU7s",
        "outputId": "d714e976-f785-4926-803e-1eb9fcc304d3"
      },
      "source": [
        "#Demonstrate program\n",
        "array = [0, 0, 1, 1, 1, 2, 2, 3, 3, 4, 5, 5]\n",
        "removeDuplicates(array)"
      ],
      "execution_count": null,
      "outputs": [
        {
          "output_type": "stream",
          "text": [
            "Original array:\n",
            "[0, 0, 1, 1, 1, 2, 2, 3, 3, 4, 5, 5]\n",
            "After removing duplicates. Unique array:\n",
            "[0, 1, 2, 3, 4, 5]\n",
            "Length of the unique array is 6\n"
          ],
          "name": "stdout"
        }
      ]
    }
  ]
}
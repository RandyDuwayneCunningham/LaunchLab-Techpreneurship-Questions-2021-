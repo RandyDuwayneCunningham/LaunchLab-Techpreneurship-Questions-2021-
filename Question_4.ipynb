{
  "nbformat": 4,
  "nbformat_minor": 0,
  "metadata": {
    "colab": {
      "name": "Question-4.ipynb",
      "provenance": [],
      "collapsed_sections": [],
      "authorship_tag": "ABX9TyM8m9zxY3vlcKWgYX9OdigE",
      "include_colab_link": true
    },
    "kernelspec": {
      "name": "python3",
      "display_name": "Python 3"
    },
    "language_info": {
      "name": "python"
    }
  },
  "cells": [
    {
      "cell_type": "markdown",
      "metadata": {
        "id": "view-in-github",
        "colab_type": "text"
      },
      "source": [
        "<a href=\"https://colab.research.google.com/github/RandyDuwayneCunningham/LaunchLab-Techpreneurship-Questions-2021-/blob/main/Question_4.ipynb\" target=\"_parent\"><img src=\"https://colab.research.google.com/assets/colab-badge.svg\" alt=\"Open In Colab\"/></a>"
      ]
    },
    {
      "cell_type": "code",
      "metadata": {
        "id": "d6uxeWD8jGf3"
      },
      "source": [
        "#Define function to convert roman numberals to numerical numbers\n",
        "def roman_to_int(s):\n",
        "\n",
        "        #Create dictionary to assign roman numeral key-value pairs\n",
        "        rom_val = {'I': 1,\n",
        "                   'V': 5,\n",
        "                   'X': 10,\n",
        "                   'L': 50,\n",
        "                   'C': 100,\n",
        "                   'D': 500,\n",
        "                   'M': 1000}\n",
        "       \n",
        "        #Final answer\n",
        "        result = 0\n",
        "\n",
        "        #Loop through string of roman numerals\n",
        "        #If preceding character is smaller then subtract it\n",
        "        #If preceding character is greater then add it\n",
        "        for i in range(len(s)):\n",
        "            if i > 0 and rom_val[s[i]] > rom_val[s[i - 1]]:\n",
        "                result += rom_val[s[i]] - 2 * rom_val[s[i - 1]]\n",
        "            else:\n",
        "                result += rom_val[s[i]]\n",
        "        return result"
      ],
      "execution_count": null,
      "outputs": []
    },
    {
      "cell_type": "code",
      "metadata": {
        "colab": {
          "base_uri": "https://localhost:8080/"
        },
        "id": "t6z-yaBdjN0I",
        "outputId": "4980847f-32aa-4639-9f4e-da1a4030cd6f"
      },
      "source": [
        "#Display program\n",
        "s = \"XXVIII\"\n",
        "roman_to_int(s)"
      ],
      "execution_count": null,
      "outputs": [
        {
          "output_type": "execute_result",
          "data": {
            "text/plain": [
              "28"
            ]
          },
          "metadata": {
            "tags": []
          },
          "execution_count": 17
        }
      ]
    }
  ]
}